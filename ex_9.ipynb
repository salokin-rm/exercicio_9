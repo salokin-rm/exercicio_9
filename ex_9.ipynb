{
 "cells": [
  {
   "cell_type": "code",
   "execution_count": 36,
   "id": "8afd14e1",
   "metadata": {},
   "outputs": [
    {
     "name": "stdout",
     "output_type": "stream",
     "text": [
      "Este programa descobre as raízes de uma equação de 2º grau\n",
      "\n",
      "Digite o valor do termo \"a\" da equação:1\n",
      "\n",
      "Digite o valor do termo \"b\" da equação:1\n",
      "\n",
      "Digite o valor do termo \"c\" da equação:5\n",
      "delta= -19.0\n",
      "\n",
      "Equação com parte imaginária, não programei pra isso...\n"
     ]
    }
   ],
   "source": [
    "\"\"\"\n",
    "Nome: Equação de 2º Grau\n",
    "Descrição: Este programa descobre as raízes de uma equação de 2º grau\n",
    "Autor: Nikolas\n",
    "Versão: 0.0.1\n",
    "Data: 26/06/2023\n",
    "\n",
    "\"\"\"\n",
    "\n",
    "print(\"Este programa descobre as raízes de uma equação de 2º grau\")\n",
    "\n",
    "#Atribuição de Variáveis\n",
    "\n",
    "i=0\n",
    "\n",
    "#Entrada de Dados\n",
    "\n",
    "while i<3:\n",
    "    if i==0:\n",
    "        a = float(input(f\"\\nDigite o valor do termo \\\"a\\\" da equação:\"))\n",
    "        i+=1\n",
    "    if i==1:\n",
    "        b = float(input(f\"\\nDigite o valor do termo \\\"b\\\" da equação:\"))\n",
    "        i+=1\n",
    "    if i==2:\n",
    "        c = float(input(f\"\\nDigite o valor do termo \\\"c\\\" da equação:\"))\n",
    "        i+=1\n",
    "#Processamento de Dados\n",
    "\n",
    "delta = b**2 - 4*a*c\n",
    "print(\"delta=\",delta,)\n",
    "\n",
    "if ((delta>=0) and (a!=0)):\n",
    "\n",
    "    x1 = (-b + (delta**(1/2)))/(2*a)\n",
    "    x2 = ( b + (delta**(1/2)))/(2*a)\n",
    "\n",
    "#Saída de Dados\n",
    "\n",
    "    if a>0 or a<0:\n",
    "        if b>0:\n",
    "            if c>0:\n",
    "                print(\"\\nAs raízes da equação\",a,\"x^2 +\",b,\"x +\",c,\"= 0 são x'=\",x1,\"e x\\\"=\",x2,\".\")\n",
    "            elif c<0:\n",
    "                print(\"\\nAs raízes da equação\",a,\"x^2 +\",b,\"x\",c,\"= 0 são x'=\",x1,\"e x\\\"=\",x2,\".\")\n",
    "            else:\n",
    "                print(\"\\nAs raízes da equação\",a,\"x^2 +\",b,\"x = 0 são x'=\",x1,\"e x\\\"=\",x2,\".\")\n",
    "        elif b<0:\n",
    "            if c>0:\n",
    "                print(\"\\nAs raízes da equação\",a,\"x^2\",b,\"x +\",c,\"= 0 são x'=\",x1,\"e x\\\"=\",x2,\".\")\n",
    "            elif c<0:\n",
    "                print(\"\\nAs raízes da equação\",a,\"x^2\",b,\"x\",c,\"= 0 são x'=\",x1,\"e x\\\"=\",x2,\".\")\n",
    "            else:\n",
    "                print(\"\\nAs raízes da equação\",a,\"x^2\",b,\"x = 0 são x'=\",x1,\"e x\\\"=\",x2,\".\")\n",
    "        elif b==0:\n",
    "            if c>0:\n",
    "                print(\"\\nAs raízes da equação\",a,\"x^2 +\",c,\"= 0 são x'=\",x1,\"e x\\\"=\",x2,\".\")\n",
    "            elif c<0:\n",
    "                print(\"\\nAs raízes da equação\",a,\"x^2\",c,\"= 0 são x'=\",x1,\"e x\\\"=\",x2,\".\")\n",
    "            else:\n",
    "                print(\"\\nAs raízes da equação\",a,\"x^2 = 0 são x'=\",x1,\"e x\\\"=\",x2,\".\")\n",
    "    else:\n",
    "        print(\"\\nEsta não é uma equação válida.\")\n",
    "\n",
    "elif delta<0 and a!=0:\n",
    "    print(\"\\nEquação com parte imaginária, não programei pra isso...\")\n",
    "elif a==0:\n",
    "    print(\"\\nDivisão por 0!\")"
   ]
  },
  {
   "cell_type": "code",
   "execution_count": null,
   "id": "54874b15",
   "metadata": {},
   "outputs": [],
   "source": []
  }
 ],
 "metadata": {
  "kernelspec": {
   "display_name": "Python 3 (ipykernel)",
   "language": "python",
   "name": "python3"
  },
  "language_info": {
   "codemirror_mode": {
    "name": "ipython",
    "version": 3
   },
   "file_extension": ".py",
   "mimetype": "text/x-python",
   "name": "python",
   "nbconvert_exporter": "python",
   "pygments_lexer": "ipython3",
   "version": "3.10.9"
  }
 },
 "nbformat": 4,
 "nbformat_minor": 5
}
